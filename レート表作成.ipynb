{
  "nbformat": 4,
  "nbformat_minor": 0,
  "metadata": {
    "colab": {
      "provenance": [],
      "collapsed_sections": [],
      "include_colab_link": true
    },
    "kernelspec": {
      "name": "python3",
      "display_name": "Python 3"
    },
    "language_info": {
      "name": "python"
    }
  },
  "cells": [
    {
      "cell_type": "markdown",
      "metadata": {
        "id": "view-in-github",
        "colab_type": "text"
      },
      "source": [
        "<a href=\"https://colab.research.google.com/github/codefox-inc/keiriColab/blob/main/%E3%83%AC%E3%83%BC%E3%83%88%E8%A1%A8%E4%BD%9C%E6%88%90.ipynb\" target=\"_parent\"><img src=\"https://colab.research.google.com/assets/colab-badge.svg\" alt=\"Open In Colab\"/></a>"
      ]
    },
    {
      "cell_type": "code",
      "execution_count": 1,
      "metadata": {
        "colab": {
          "base_uri": "https://localhost:8080/"
        },
        "id": "5rHUiFcZzj8e",
        "outputId": "435b15dc-3ddd-4202-e22e-e29a475928e8"
      },
      "outputs": [
        {
          "output_type": "stream",
          "name": "stdout",
          "text": [
            "進捗↓\n",
            "ftx-token\n",
            "2022/10/01\n",
            "2022/10/02\n",
            "2022/10/03\n",
            "bitcoin\n",
            "2022/10/01\n",
            "2022/10/02\n",
            "2022/10/03\n",
            "astar\n",
            "2022/10/01\n",
            "2022/10/02\n",
            "2022/10/03\n",
            "solana\n",
            "2022/10/01\n",
            "2022/10/02\n",
            "2022/10/03\n",
            "できあがり！\n",
            "← 左メニューのフォルダに「レート表(2022-10-01から2022-10-03まで).csv」を保存しました。\n"
          ]
        }
      ],
      "source": [
        "import json\n",
        "import time\n",
        "from datetime import datetime, timedelta\n",
        "\n",
        "import pandas as pd\n",
        "import requests\n",
        "\n",
        "#date_fromに指定の期間の最初の日、date_toに指定の期間の最後の日を入力します。\n",
        "#yyyy-mm-ddの形式でお願いいたします\n",
        "#注：実際に取得するデータは、時差の関係上、翌日の日本時間午前9:00の時点での価格になります。\n",
        "date_from = \"2022-10-01\"\n",
        "date_to = \"2022-10-03\"\n",
        "\n",
        "#tokensには情報を取得したいトークンのID(CoinGeckoのもの）を　\"\" で囲んで入力します。\n",
        "#複数ある場合は　,　で区切って入力してください\n",
        "tokens = [\n",
        "    \"ftx-token\",\n",
        "    \"bitcoin\",\n",
        "    \"astar\",\n",
        "    \"solana\"\n",
        "]\n",
        "\n",
        "#ここから先は触らなくて大丈夫です。お疲れ様でした！\n",
        "\n",
        "date_range = pd.date_range(start=date_from, end=date_to)\n",
        "\n",
        "print(\"進捗↓\")\n",
        "df_fin = pd.DataFrame()\n",
        "\n",
        "for token in tokens:        \n",
        "    df_token = pd.DataFrame()\n",
        "    print(token)\n",
        "\n",
        "    for date in date_range:\n",
        "        today = datetime.strftime(date, \"%Y/%m/%d\")        \n",
        "        tomorrow = date + timedelta(days=1)\n",
        "        tomorrow = datetime.strftime(tomorrow, \"%d-%m-%Y\")\n",
        "        print(today)\n",
        "\n",
        "        url = f\"https://api.coingecko.com/api/v3/coins/{token}/history?date={tomorrow}\"\n",
        "\n",
        "        response = requests.get(url) \n",
        "        if response.ok:\n",
        "            txs = json.loads(response.text)\n",
        "        else:\n",
        "            time.sleep(3)\n",
        "            continue\n",
        "\n",
        "        df = pd.DataFrame(index=[today], columns=[token])\n",
        "        df[token] = txs[\"market_data\"][\"current_price\"][\"jpy\"]\n",
        "        df_token = pd.concat([df, df_token])\n",
        "\n",
        "    df_fin = pd.concat([df_fin, df_token], axis=1)\n",
        "    df_fin = df_fin.sort_index()\n",
        "\n",
        "df_fin.to_csv(f\"レート表({date_from}から{date_to}まで).csv\")\n",
        "print(\"できあがり！\")\n",
        "print(f\"← 左メニューのフォルダに「レート表({date_from}から{date_to}まで).csv」を保存しました。\")"
      ]
    }
  ]
}